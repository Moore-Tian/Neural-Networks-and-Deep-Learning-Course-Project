{
 "cells": [
  {
   "cell_type": "code",
   "execution_count": 1,
   "metadata": {},
   "outputs": [],
   "source": [
    "import matplotlib as mpl\n",
    "mpl.use('Agg')\n",
    "import matplotlib.pyplot as plt\n",
    "from torch import nn\n",
    "import numpy as np\n",
    "import torch\n",
    "import os\n",
    "import random\n",
    "from tqdm import tqdm\n",
    "from IPython import display\n",
    "from models import *\n",
    "import torchvision\n",
    "import torchvision.transforms as transforms"
   ]
  },
  {
   "cell_type": "code",
   "execution_count": 2,
   "metadata": {},
   "outputs": [
    {
     "name": "stdout",
     "output_type": "stream",
     "text": [
      "Files already downloaded and verified\n",
      "Files already downloaded and verified\n"
     ]
    }
   ],
   "source": [
    "transform_train = transforms.Compose([\n",
    "    transforms.RandomCrop(32, padding=4),  #先四周填充0，图像随机裁剪成32*32\n",
    "    transforms.RandomHorizontalFlip(),  #图像一半的概率翻转，一半的概率不翻转\n",
    "    transforms.ToTensor(),\n",
    "    transforms.Normalize((0.4914, 0.4822, 0.4465), (0.2023, 0.1994, 0.2010)),  \n",
    "])\n",
    "\n",
    "transform_test = transforms.Compose([\n",
    "    transforms.ToTensor(),\n",
    "    transforms.Normalize((0.4914, 0.4822, 0.4465), (0.2023, 0.1994, 0.2010)),\n",
    "])\n",
    "\n",
    "works_num=4\n",
    "download=True\n",
    "batch_size = 128\n",
    "dataset_path = '/data/'\n",
    "trainset = torchvision.datasets.CIFAR10(root=dataset_path, train=True, download=download, transform=transform_train)\n",
    "trainloader = torch.utils.data.DataLoader(trainset, batch_size=batch_size, shuffle=True, num_workers=works_num,pin_memory=True)\n",
    "testset = torchvision.datasets.CIFAR10(root=dataset_path, train=False, download=download, transform=transform_test)\n",
    "testloader = torch.utils.data.DataLoader(testset, batch_size=batch_size, shuffle=False, num_workers=works_num,pin_memory=True)"
   ]
  },
  {
   "cell_type": "code",
   "execution_count": 3,
   "metadata": {},
   "outputs": [
    {
     "name": "stdout",
     "output_type": "stream",
     "text": [
      "cuda\n"
     ]
    }
   ],
   "source": [
    "device = 'cuda' if torch.cuda.is_available() else 'cpu'\n",
    "print(device)\n",
    "num_classes = 10"
   ]
  },
  {
   "cell_type": "code",
   "execution_count": 4,
   "metadata": {},
   "outputs": [],
   "source": [
    "def get_accuracy(model, val_loader):\n",
    "    size = 0\n",
    "    correct = 0\n",
    "    with torch.no_grad():\n",
    "        for data in val_loader:\n",
    "            x, y = data\n",
    "            x = x.to(device)\n",
    "            y = y.to(device)\n",
    "            outputs = model(x)\n",
    "            _, y_pred = torch.max(outputs.data, 1)\n",
    "            size += y.size(0)\n",
    "            correct += (y_pred == y).sum().item()\n",
    "\n",
    "    print('Accuracy: %.2f %% ' % (100 * correct / size))\n",
    "\n",
    "def train(model, optimizer, criterion, train_loader, val_loader, scheduler=None, epochs_n=100):\n",
    "    model.to(device)\n",
    "    learning_curve = [np.nan] * epochs_n\n",
    "    batches_n = len(train_loader)\n",
    "    losses_list = []\n",
    "    grads = []\n",
    "    \n",
    "    for epoch in tqdm(range(epochs_n), unit='epoch'):\n",
    "        if scheduler is not None:\n",
    "            scheduler.step()\n",
    "        model.train()\n",
    "\n",
    "        grad = []  # use this to record the loss gradient of each step\n",
    "        learning_curve[epoch] = 0  # maintain this to plot the training curve\n",
    "        size = 0\n",
    "\n",
    "        for data in train_loader:\n",
    "            x, y = data\n",
    "            x = x.to(device)\n",
    "            y = y.to(device)\n",
    "            optimizer.zero_grad()\n",
    "            prediction = model(x)\n",
    "            loss = criterion(prediction, y)\n",
    "            losses_list.append(loss.cpu().detach() )\n",
    "            _, y_pred = torch.max(prediction.data, 1)\n",
    "            learning_curve[epoch] += (y_pred == y).sum().item()\n",
    "            size += y.size(0)\n",
    "\n",
    "            loss.backward()\n",
    "            optimizer.step()\n",
    "        learning_curve[epoch] /= size\n",
    "    model.eval()\n",
    "    get_accuracy(model, val_loader)\n",
    "\n",
    "    return losses_list, learning_curve"
   ]
  },
  {
   "cell_type": "code",
   "execution_count": 5,
   "metadata": {},
   "outputs": [],
   "source": [
    "def plot_loss_landscape(iteration, VGG_A_max_curve, VGG_A_min_curve, VGG_A_BN_max_curve, VGG_A_BN_min_curve):\n",
    "    fig = plt.figure(0)\n",
    "    plt.style.use(\"ggplot\")\n",
    "    # plot VGG_A curve\n",
    "    plt.plot(iteration, VGG_A_max_curve, c=\"green\")\n",
    "    plt.plot(iteration, VGG_A_min_curve, c=\"green\")\n",
    "    plt.fill_between(\n",
    "        iteration,\n",
    "        VGG_A_max_curve,\n",
    "        VGG_A_min_curve,\n",
    "        color=\"lightgreen\",\n",
    "        label=\"Standard VGG\",\n",
    "    )\n",
    "\n",
    "    # plot VGG_A_BatchNorm  curve\n",
    "    plt.plot(iteration, VGG_A_BN_max_curve, c=\"firebrick\")\n",
    "    plt.plot(iteration, VGG_A_BN_min_curve, c=\"firebrick\")\n",
    "    plt.fill_between(\n",
    "        iteration,\n",
    "        VGG_A_BN_max_curve,\n",
    "        VGG_A_BN_min_curve,\n",
    "        color=\"lightcoral\",\n",
    "        label=\"Standard VGG + BatchNorm\",\n",
    "    )\n",
    "\n",
    "    # configs\n",
    "    plt.xticks(np.arange(0, iteration[-1], 1000))\n",
    "    plt.xlabel(\"Steps\")\n",
    "    plt.ylabel(\"Loss\")\n",
    "    plt.title(\"Loss Landscape\")\n",
    "    plt.legend(loc=\"upper right\", fontsize=\"x-large\")\n",
    "    savepath = \"/Loss_landscape_VGG_Cmp_BN.png\"\n",
    "    plt.savefig(savepath, dpi=300)\n",
    "    plt.close(0)\n",
    "\n",
    "\n",
    "def plot_acc_curve(iteration, VGG_A_acc, VGG_A_norm_acc):\n",
    "    fig = plt.figure(0)\n",
    "    plt.style.use(\"ggplot\")\n",
    "    plt.plot(iteration, VGG_A_acc, c=\"green\", label=\"Standard VGG\")\n",
    "    plt.plot(iteration, VGG_A_norm_acc, c=\"firebrick\", label=\"Standard VGG + BatchNorm\")\n",
    "    # configs\n",
    "    plt.xticks(range(0, 22))\n",
    "    plt.xlabel(\"Epoch\")\n",
    "    plt.ylabel(\"Train Accuary\")\n",
    "    plt.title(\"Accuary Curve\")\n",
    "    plt.legend(loc=\"best\", fontsize=\"x-large\")\n",
    "    savepath = \"/Train_Acc_VGG_Cmp_BN.png\"\n",
    "    plt.savefig(savepath, dpi=300)\n",
    "    plt.close(0)"
   ]
  },
  {
   "cell_type": "code",
   "execution_count": 6,
   "metadata": {},
   "outputs": [
    {
     "name": "stderr",
     "output_type": "stream",
     "text": [
      "100%|██████████| 20/20 [03:48<00:00, 11.40s/epoch]\n"
     ]
    },
    {
     "name": "stdout",
     "output_type": "stream",
     "text": [
      "Accuracy: 75.98 % \n"
     ]
    },
    {
     "name": "stderr",
     "output_type": "stream",
     "text": [
      "100%|██████████| 20/20 [02:42<00:00,  8.12s/epoch]\n"
     ]
    },
    {
     "name": "stdout",
     "output_type": "stream",
     "text": [
      "Accuracy: 86.40 % \n"
     ]
    },
    {
     "name": "stderr",
     "output_type": "stream",
     "text": [
      "100%|██████████| 20/20 [02:46<00:00,  8.33s/epoch]\n"
     ]
    },
    {
     "name": "stdout",
     "output_type": "stream",
     "text": [
      "Accuracy: 81.71 % \n"
     ]
    },
    {
     "name": "stderr",
     "output_type": "stream",
     "text": [
      "100%|██████████| 20/20 [02:36<00:00,  7.85s/epoch]\n"
     ]
    },
    {
     "name": "stdout",
     "output_type": "stream",
     "text": [
      "Accuracy: 81.77 % \n"
     ]
    },
    {
     "name": "stderr",
     "output_type": "stream",
     "text": [
      "100%|██████████| 20/20 [02:34<00:00,  7.74s/epoch]\n"
     ]
    },
    {
     "name": "stdout",
     "output_type": "stream",
     "text": [
      "Accuracy: 83.90 % \n"
     ]
    },
    {
     "name": "stderr",
     "output_type": "stream",
     "text": [
      "100%|██████████| 20/20 [02:23<00:00,  7.16s/epoch]\n"
     ]
    },
    {
     "name": "stdout",
     "output_type": "stream",
     "text": [
      "Accuracy: 87.14 % \n"
     ]
    }
   ],
   "source": [
    "lrs=[2e-3, 1e-4, 5e-4]\n",
    "epoch_num = 20\n",
    "\n",
    "VGG_A_losses = []\n",
    "VGG_A_BN_losses = []\n",
    "VGG_A_acc=[]\n",
    "VGG_A_bn_acc=[]\n",
    "\n",
    "for lr in lrs:\n",
    "    model = VGG_A()\n",
    "    optimizer = torch.optim.Adam(model.parameters(), lr=lr)\n",
    "    criterion = nn.CrossEntropyLoss()\n",
    "    a1, a2=train(model, optimizer, criterion, trainloader, testloader, epochs_n=epoch_num)\n",
    "    VGG_A_losses.append(a1)\n",
    "    VGG_A_acc.append(a2)\n",
    "    \n",
    "    model = VGG_A_BatchNorm()\n",
    "    optimizer = torch.optim.Adam(model.parameters(), lr=lr)\n",
    "    criterion = nn.CrossEntropyLoss()\n",
    "    b1, b2=train(model, optimizer, criterion, trainloader, testloader, epochs_n=epoch_num)\n",
    "    VGG_A_BN_losses.append(b1)\n",
    "    VGG_A_bn_acc.append(b2)\n",
    "\n",
    "\n",
    "VGG_A_losses = np.array(VGG_A_losses)\n",
    "VGG_A_BN_losses = np.array(VGG_A_BN_losses)\n",
    "VGG_A_acc=np.array(VGG_A_acc)\n",
    "VGG_A_bn_acc=np.array(VGG_A_bn_acc)\n",
    "\n",
    "iteration = []\n",
    "VGG_A_min_curve = []\n",
    "VGG_A_max_curve = []\n",
    "VGG_A_BN_min_curve = []\n",
    "VGG_A_BN_max_curve = []\n",
    "\n",
    "VGG_A_min = VGG_A_losses.min(axis=0).astype(float)\n",
    "VGG_A_max = VGG_A_losses.max(axis=0).astype(float)\n",
    "VGG_A_BN_min = VGG_A_BN_losses.min(axis=0).astype(float)\n",
    "VGG_A_BN_max = VGG_A_BN_losses.max(axis=0).astype(float)\n",
    "for i in range(len(VGG_A_min)):\n",
    "    if i%30 == 0:\n",
    "        VGG_A_min_curve.append(VGG_A_min[i])\n",
    "        VGG_A_max_curve.append(VGG_A_max[i])\n",
    "        VGG_A_BN_min_curve.append(VGG_A_BN_min[i])\n",
    "        VGG_A_BN_max_curve.append(VGG_A_BN_max[i])\n",
    "        iteration.append(i)\n",
    "\n",
    "plot_acc_curve(range(1,21),VGG_A_acc[0],VGG_A_bn_acc[0])\n",
    "\n",
    "plot_loss_landscape(iteration,VGG_A_max_curve,\n",
    "                    VGG_A_min_curve,VGG_A_BN_max_curve,\n",
    "                    VGG_A_BN_min_curve)"
   ]
  },
  {
   "cell_type": "code",
   "execution_count": 8,
   "metadata": {},
   "outputs": [],
   "source": [
    "def plot_loss_landscape(iteration, VGG_A_max_curve, VGG_A_min_curve, VGG_A_BN_max_curve, VGG_A_BN_min_curve):\n",
    "    fig = plt.figure(0)\n",
    "    plt.style.use(\"ggplot\")\n",
    "    # plot VGG_A curve\n",
    "    plt.plot(iteration, VGG_A_max_curve, c=\"green\")\n",
    "    plt.plot(iteration, VGG_A_min_curve, c=\"green\")\n",
    "    plt.fill_between(\n",
    "        iteration,\n",
    "        VGG_A_max_curve,\n",
    "        VGG_A_min_curve,\n",
    "        color=\"lightgreen\",\n",
    "        label=\"Standard VGG\",\n",
    "    )\n",
    "\n",
    "    # plot VGG_A_BatchNorm  curve\n",
    "    plt.plot(iteration, VGG_A_BN_max_curve, c=\"firebrick\")\n",
    "    plt.plot(iteration, VGG_A_BN_min_curve, c=\"firebrick\")\n",
    "    plt.fill_between(\n",
    "        iteration,\n",
    "        VGG_A_BN_max_curve,\n",
    "        VGG_A_BN_min_curve,\n",
    "        color=\"lightcoral\",\n",
    "        label=\"Standard VGG + BatchNorm\",\n",
    "    )\n",
    "\n",
    "    # configs\n",
    "    plt.xticks(np.arange(0, iteration[-1], 1000))\n",
    "    plt.xlabel(\"Steps\")\n",
    "    plt.ylabel(\"Loss\")\n",
    "    plt.title(\"Loss Landscape\")\n",
    "    plt.legend(loc=\"upper right\", fontsize=\"x-large\")\n",
    "    savepath = \"Loss_landscape_VGG_Cmp_BN.png\"\n",
    "    plt.savefig(savepath, dpi=300)\n",
    "    plt.close(0)\n",
    "\n",
    "\n",
    "def plot_acc_curve(iteration, VGG_A_acc, VGG_A_norm_acc):\n",
    "    fig = plt.figure(0)\n",
    "    plt.style.use(\"ggplot\")\n",
    "    plt.plot(iteration, VGG_A_acc, c=\"green\", label=\"Standard VGG\")\n",
    "    plt.plot(iteration, VGG_A_norm_acc, c=\"firebrick\", label=\"Standard VGG + BatchNorm\")\n",
    "    # configs\n",
    "    plt.xticks(range(0, 22))\n",
    "    plt.xlabel(\"Epoch\")\n",
    "    plt.ylabel(\"Train Accuary\")\n",
    "    plt.title(\"Accuary Curve\")\n",
    "    plt.legend(loc=\"best\", fontsize=\"x-large\")\n",
    "    savepath = \"Train_Acc_VGG_Cmp_BN.png\"\n",
    "    plt.savefig(savepath, dpi=300)\n",
    "    plt.close(0)\n",
    "\n",
    "plot_acc_curve(range(1,21),VGG_A_acc[0],VGG_A_bn_acc[0])\n",
    "\n",
    "plot_loss_landscape(iteration,VGG_A_max_curve,\n",
    "                    VGG_A_min_curve,VGG_A_BN_max_curve,\n",
    "                    VGG_A_BN_min_curve)"
   ]
  },
  {
   "cell_type": "code",
   "execution_count": null,
   "metadata": {},
   "outputs": [],
   "source": []
  }
 ],
 "metadata": {
  "kernelspec": {
   "display_name": "Python 3 (ipykernel)",
   "language": "python",
   "name": "python3"
  },
  "language_info": {
   "codemirror_mode": {
    "name": "ipython",
    "version": 3
   },
   "file_extension": ".py",
   "mimetype": "text/x-python",
   "name": "python",
   "nbconvert_exporter": "python",
   "pygments_lexer": "ipython3",
   "version": "3.12.3"
  }
 },
 "nbformat": 4,
 "nbformat_minor": 4
}
