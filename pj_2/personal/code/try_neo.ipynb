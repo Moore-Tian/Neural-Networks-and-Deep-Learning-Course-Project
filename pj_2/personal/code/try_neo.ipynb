{
 "cells": [
  {
   "cell_type": "code",
   "execution_count": 1,
   "metadata": {},
   "outputs": [
    {
     "name": "stdout",
     "output_type": "stream",
     "text": [
      "Files already downloaded and verified\n",
      "Files already downloaded and verified\n"
     ]
    }
   ],
   "source": [
    "from models import *\n",
    "from trainer import *\n",
    "import torch\n",
    "import sched\n",
    "import torch.nn as nn\n",
    "import torch.nn.functional as F\n",
    "import torchvision\n",
    "import torchvision.transforms as transforms\n",
    "from torch.nn import CrossEntropyLoss,SmoothL1Loss,BCEWithLogitsLoss\n",
    "import torch.optim as optim\n",
    "import time\n",
    "from time import sleep\n",
    "from tqdm import tqdm\n",
    "import os\n",
    "from pathlib import Path\n",
    "import matplotlib.pyplot as plt\n",
    "\n",
    "\n",
    "transform_train = transforms.Compose([\n",
    "    transforms.RandomCrop(32, padding=4),  #先四周填充0，图像随机裁剪成32*32\n",
    "    transforms.RandomHorizontalFlip(),  #图像一半的概率翻转，一半的概率不翻转\n",
    "    transforms.ToTensor(),\n",
    "    transforms.Normalize((0.4914, 0.4822, 0.4465), (0.2023, 0.1994, 0.2010)),  \n",
    "])\n",
    "\n",
    "transform_test = transforms.Compose([\n",
    "    transforms.ToTensor(),\n",
    "    transforms.Normalize((0.4914, 0.4822, 0.4465), (0.2023, 0.1994, 0.2010)),\n",
    "])\n",
    "\n",
    "works_num=4\n",
    "download=True\n",
    "batch_size = 128\n",
    "dataset_path = '/data/'\n",
    "trainset = torchvision.datasets.CIFAR10(root=dataset_path, train=True, download=download, transform=transform_train)\n",
    "trainloader = torch.utils.data.DataLoader(trainset, batch_size=batch_size, shuffle=True, num_workers=works_num,pin_memory=True)\n",
    "testset = torchvision.datasets.CIFAR10(root=dataset_path, train=False, download=download, transform=transform_test)\n",
    "testloader = torch.utils.data.DataLoader(testset, batch_size=batch_size, shuffle=False, num_workers=works_num,pin_memory=True)\n",
    "torch.cuda.empty_cache()"
   ]
  },
  {
   "cell_type": "code",
   "execution_count": 2,
   "metadata": {},
   "outputs": [
    {
     "name": "stdout",
     "output_type": "stream",
     "text": [
      "cuda\n"
     ]
    }
   ],
   "source": [
    "device = 'cuda' if torch.cuda.is_available() else 'cpu'\n",
    "print(device)\n",
    "num_classes = 10"
   ]
  },
  {
   "cell_type": "code",
   "execution_count": null,
   "metadata": {},
   "outputs": [],
   "source": [
    "res9_relu = ResNet9()\n",
    "simp_res9_relu = simp_ResNet9()\n",
    "res18_relu = ResNet18()\n",
    "\n",
    "losses_res9_relu, train_acces_res9_relu, test_acces_res9_relu = train(device=device, model=res9_relu, train_loader=trainloader, test_loader=testloader, num_classes=num_classes, max_epoch=50)\n",
    "losses_simp_res9_relu, train_acces_simp_res9_relu, test_acces_simp_res9_relu = train(device=device, model=simp_res9_relu, train_loader=trainloader, test_loader=testloader, num_classes=num_classes, max_epoch=50)\n",
    "losses_res18_relu, train_acces_res18_relu, test_acces_res18_relu = train(device=device, model=res18_relu, train_loader=trainloader, test_loader=testloader, num_classes=num_classes, max_epoch=50)\n",
    "\n",
    "test(device=device, net=res9_relu, train_loader=trainloader, test_loader=testloader)\n",
    "test(device=device, net=simp_res9_relu, train_loader=trainloader, test_loader=testloader)\n",
    "test(device=device, net=res18_relu, train_loader=trainloader, test_loader=testloader)\n",
    "\n",
    "torch.save(res9_relu.state_dict(), 'res9_relu_base.pth')\n",
    "torch.save(simp_res9_relu.state_dict(), 'simp_res9_relu_base.pth')\n",
    "torch.save(res18_relu.state_dict(), 'res18_relu_base.pth')\n",
    "\n",
    "# 绘制 loss 曲线\n",
    "plt.figure(figsize=(12, 4))\n",
    "plt.subplot(1, 3, 1)\n",
    "plt.plot(losses_res9_relu)\n",
    "plt.title('Res9 ReLU Loss')\n",
    "plt.xlabel('Epoch')\n",
    "plt.ylabel('Loss')\n",
    "\n",
    "plt.subplot(1, 3, 2)\n",
    "plt.plot(losses_simp_res9_relu)\n",
    "plt.title('Simplified Res9 ReLU Loss')\n",
    "plt.xlabel('Epoch')\n",
    "plt.ylabel('Loss')\n",
    "\n",
    "plt.subplot(1, 3, 3)\n",
    "plt.plot(losses_res18_relu)\n",
    "plt.title('Res18 ReLU Loss')\n",
    "plt.xlabel('Epoch')\n",
    "plt.ylabel('Loss')\n",
    "plt.tight_layout()\n",
    "plt.savefig('losses.png')\n",
    "\n",
    "# 绘制训练集准确率曲线\n",
    "plt.figure(figsize=(12, 4))\n",
    "plt.subplot(1, 3, 1)\n",
    "plt.plot(train_acces_res9_relu)\n",
    "plt.title('Res9 ReLU Training Accuracy')\n",
    "plt.xlabel('Epoch')\n",
    "plt.ylabel('Accuracy')\n",
    "\n",
    "plt.subplot(1, 3, 2)\n",
    "plt.plot(train_acces_simp_res9_relu)\n",
    "plt.title('Simplified Res9 ReLU Training Accuracy')\n",
    "plt.xlabel('Epoch')\n",
    "plt.ylabel('Accuracy')\n",
    "\n",
    "plt.subplot(1, 3, 3)\n",
    "plt.plot(train_acces_res18_relu)\n",
    "plt.title('Res18 ReLU Training Accuracy')\n",
    "plt.xlabel('Epoch')\n",
    "plt.ylabel('Accuracy')\n",
    "plt.tight_layout()\n",
    "plt.savefig('train_accuracy.png')\n",
    "\n",
    "# 绘制测试集准确率曲线\n",
    "plt.figure(figsize=(12, 4))\n",
    "plt.subplot(1, 3, 1)\n",
    "plt.plot(test_acces_res9_relu)\n",
    "plt.title('Res9 ReLU Test Accuracy')\n",
    "plt.xlabel('Epoch')\n",
    "plt.ylabel('Accuracy')\n",
    "\n",
    "plt.subplot(1, 3, 2)\n",
    "plt.plot(test_acces_simp_res9_relu)\n",
    "plt.title('Simplified Res9 ReLU Test Accuracy')\n",
    "plt.xlabel('Epoch')\n",
    "plt.ylabel('Accuracy')\n",
    "\n",
    "plt.subplot(1, 3, 3)\n",
    "plt.plot(test_acces_res18_relu)\n",
    "plt.title('Res18 ReLU Test Accuracy')\n",
    "plt.xlabel('Epoch')\n",
    "plt.ylabel('Accuracy')\n",
    "plt.tight_layout()\n",
    "plt.savefig('test_accuracy.png')\n",
    "\n",
    "del res9_relu, simp_res9_relu, res18_relu"
   ]
  },
  {
   "cell_type": "code",
   "execution_count": 3,
   "metadata": {},
   "outputs": [
    {
     "name": "stderr",
     "output_type": "stream",
     "text": [
      "1/1|██████████| [70.62s/epoch, loss:0.06, lr:0.10500, trainacc:35.22, testacc:36.64]\t\n"
     ]
    },
    {
     "name": "stdout",
     "output_type": "stream",
     "text": [
      "Accuracy of the network on train set: 35.268 %\n",
      "Accuracy of the network on test set: 36.640 %\n"
     ]
    }
   ],
   "source": [
    "train(device=device, model=simp_res9, train_loader=trainloader, test_loader=testloader, num_classes=num_classes, max_epoch=1, scheduler='CyclicLR', loss=\"SmoothL1Loss\")\n",
    "test(device=device, net=simp_res9, train_loader=trainloader, test_loader=testloader)"
   ]
  }
 ],
 "metadata": {
  "kernelspec": {
   "display_name": "base",
   "language": "python",
   "name": "python3"
  },
  "language_info": {
   "codemirror_mode": {
    "name": "ipython",
    "version": 3
   },
   "file_extension": ".py",
   "mimetype": "text/x-python",
   "name": "python",
   "nbconvert_exporter": "python",
   "pygments_lexer": "ipython3",
   "version": "3.12.3"
  }
 },
 "nbformat": 4,
 "nbformat_minor": 2
}
